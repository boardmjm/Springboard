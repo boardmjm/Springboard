{
 "cells": [
  {
   "cell_type": "markdown",
   "metadata": {},
   "source": [
    "# Frequentist Inference Case Study - Part B"
   ]
  },
  {
   "cell_type": "markdown",
   "metadata": {},
   "source": [
    "## Learning objectives"
   ]
  },
  {
   "cell_type": "markdown",
   "metadata": {},
   "source": [
    "Welcome to Part B of the Frequentist inference case study! The purpose of this case study is to help you apply the concepts associated with Frequentist inference in Python. In particular, you'll practice writing Python code to apply the following statistical concepts: \n",
    "* the _z_-statistic\n",
    "* the _t_-statistic\n",
    "* the difference and relationship between the two\n",
    "* the Central Limit Theorem, including its assumptions and consequences\n",
    "* how to estimate the population mean and standard deviation from a sample\n",
    "* the concept of a sampling distribution of a test statistic, particularly for the mean\n",
    "* how to combine these concepts to calculate a confidence interval"
   ]
  },
  {
   "cell_type": "markdown",
   "metadata": {},
   "source": [
    "In the previous notebook, we used only data from a known normal distribution. **You'll now tackle real data, rather than simulated data, and answer some relevant real-world business problems using the data.**"
   ]
  },
  {
   "cell_type": "markdown",
   "metadata": {},
   "source": [
    "## Hospital medical charges"
   ]
  },
  {
   "cell_type": "markdown",
   "metadata": {},
   "source": [
    "Imagine that a hospital has hired you as their data scientist. An administrator is working on the hospital's business operations plan and needs you to help them answer some business questions. \n",
    "\n",
    "In this assignment notebook, you're going to use frequentist statistical inference on a data sample to answer the questions:\n",
    "* has the hospital's revenue stream fallen below a key threshold?\n",
    "* are patients with insurance really charged different amounts than those without?\n",
    "\n",
    "Answering that last question with a frequentist approach makes some assumptions, and requires some knowledge, about the two groups."
   ]
  },
  {
   "cell_type": "markdown",
   "metadata": {},
   "source": [
    "We are going to use some data on medical charges obtained from [Kaggle](https://www.kaggle.com/easonlai/sample-insurance-claim-prediction-dataset). \n",
    "\n",
    "For the purposes of this exercise, assume the observations are the result of random sampling from our single hospital. Recall that in the previous assignment, we introduced the Central Limit Theorem (CLT), and its consequence that the distributions of sample statistics approach a normal distribution as $n$ increases. The amazing thing about this is that it applies to the sampling distributions of statistics that have been calculated from even highly non-normal distributions of data! Recall, also, that hypothesis testing is very much based on making inferences about such sample statistics. You're going to rely heavily on the CLT to apply frequentist (parametric) tests to answer the questions in this notebook."
   ]
  },
  {
   "cell_type": "code",
   "execution_count": 2,
   "metadata": {},
   "outputs": [],
   "source": [
    "import pandas as pd\n",
    "import numpy as np\n",
    "import matplotlib.pyplot as plt\n",
    "from scipy.stats import t\n",
    "from numpy.random import seed\n",
    "from scipy.stats import ttest_ind\n",
    "medical = pd.read_csv('insurance2.csv')"
   ]
  },
  {
   "cell_type": "code",
   "execution_count": 3,
   "metadata": {},
   "outputs": [
    {
     "data": {
      "text/plain": [
       "(1338, 8)"
      ]
     },
     "execution_count": 3,
     "metadata": {},
     "output_type": "execute_result"
    }
   ],
   "source": [
    "medical.shape"
   ]
  },
  {
   "cell_type": "code",
   "execution_count": 4,
   "metadata": {},
   "outputs": [
    {
     "data": {
      "text/html": [
       "<div>\n",
       "<style scoped>\n",
       "    .dataframe tbody tr th:only-of-type {\n",
       "        vertical-align: middle;\n",
       "    }\n",
       "\n",
       "    .dataframe tbody tr th {\n",
       "        vertical-align: top;\n",
       "    }\n",
       "\n",
       "    .dataframe thead th {\n",
       "        text-align: right;\n",
       "    }\n",
       "</style>\n",
       "<table border=\"1\" class=\"dataframe\">\n",
       "  <thead>\n",
       "    <tr style=\"text-align: right;\">\n",
       "      <th></th>\n",
       "      <th>age</th>\n",
       "      <th>sex</th>\n",
       "      <th>bmi</th>\n",
       "      <th>children</th>\n",
       "      <th>smoker</th>\n",
       "      <th>region</th>\n",
       "      <th>charges</th>\n",
       "      <th>insuranceclaim</th>\n",
       "    </tr>\n",
       "  </thead>\n",
       "  <tbody>\n",
       "    <tr>\n",
       "      <th>0</th>\n",
       "      <td>19</td>\n",
       "      <td>0</td>\n",
       "      <td>27.900</td>\n",
       "      <td>0</td>\n",
       "      <td>1</td>\n",
       "      <td>3</td>\n",
       "      <td>16884.92400</td>\n",
       "      <td>1</td>\n",
       "    </tr>\n",
       "    <tr>\n",
       "      <th>1</th>\n",
       "      <td>18</td>\n",
       "      <td>1</td>\n",
       "      <td>33.770</td>\n",
       "      <td>1</td>\n",
       "      <td>0</td>\n",
       "      <td>2</td>\n",
       "      <td>1725.55230</td>\n",
       "      <td>1</td>\n",
       "    </tr>\n",
       "    <tr>\n",
       "      <th>2</th>\n",
       "      <td>28</td>\n",
       "      <td>1</td>\n",
       "      <td>33.000</td>\n",
       "      <td>3</td>\n",
       "      <td>0</td>\n",
       "      <td>2</td>\n",
       "      <td>4449.46200</td>\n",
       "      <td>0</td>\n",
       "    </tr>\n",
       "    <tr>\n",
       "      <th>3</th>\n",
       "      <td>33</td>\n",
       "      <td>1</td>\n",
       "      <td>22.705</td>\n",
       "      <td>0</td>\n",
       "      <td>0</td>\n",
       "      <td>1</td>\n",
       "      <td>21984.47061</td>\n",
       "      <td>0</td>\n",
       "    </tr>\n",
       "    <tr>\n",
       "      <th>4</th>\n",
       "      <td>32</td>\n",
       "      <td>1</td>\n",
       "      <td>28.880</td>\n",
       "      <td>0</td>\n",
       "      <td>0</td>\n",
       "      <td>1</td>\n",
       "      <td>3866.85520</td>\n",
       "      <td>1</td>\n",
       "    </tr>\n",
       "  </tbody>\n",
       "</table>\n",
       "</div>"
      ],
      "text/plain": [
       "   age  sex     bmi  children  smoker  region      charges  insuranceclaim\n",
       "0   19    0  27.900         0       1       3  16884.92400               1\n",
       "1   18    1  33.770         1       0       2   1725.55230               1\n",
       "2   28    1  33.000         3       0       2   4449.46200               0\n",
       "3   33    1  22.705         0       0       1  21984.47061               0\n",
       "4   32    1  28.880         0       0       1   3866.85520               1"
      ]
     },
     "execution_count": 4,
     "metadata": {},
     "output_type": "execute_result"
    }
   ],
   "source": [
    "medical.head()"
   ]
  },
  {
   "cell_type": "markdown",
   "metadata": {},
   "source": [
    "__Q1:__ Plot the histogram of charges and calculate the mean and standard deviation. Comment on the appropriateness of these statistics for the data."
   ]
  },
  {
   "cell_type": "markdown",
   "metadata": {},
   "source": [
    "__A:__"
   ]
  },
  {
   "cell_type": "code",
   "execution_count": 5,
   "metadata": {},
   "outputs": [
    {
     "data": {
      "image/png": "[encoded data removed]",
      "text/plain": [
       "<Figure size 432x288 with 1 Axes>"
      ]
     },
     "metadata": {
      "needs_background": "light"
     },
     "output_type": "display_data"
    }
   ],
   "source": [
    "_ = plt.hist(medical.charges, bins=30)\n",
    "_ = plt.xlabel('charges')\n",
    "_ = plt.ylabel('amount')"
   ]
  },
  {
   "cell_type": "code",
   "execution_count": 6,
   "metadata": {},
   "outputs": [
    {
     "name": "stdout",
     "output_type": "stream",
     "text": [
      "Mean: 13270.42\n",
      "Standard Deviation: 12105.48\n"
     ]
    }
   ],
   "source": [
    "mean = round(np.mean(medical.charges),2)\n",
    "std = round(np.std(medical.charges),2)\n",
    "print('Mean: ' + str(mean))\n",
    "print('Standard Deviation: ' + str(std))"
   ]
  },
  {
   "cell_type": "markdown",
   "metadata": {},
   "source": [
    "__Q2:__ The administrator is concerned that the actual average charge has fallen below 12,000, threatening the hospital's operational model. On the assumption that these data represent a random sample of charges, how would you justify that these data allow you to answer that question? And what would be the most appropriate frequentist test, of the ones discussed so far, to apply?"
   ]
  },
  {
   "cell_type": "markdown",
   "metadata": {},
   "source": [
    "__A:__ \n",
    "We can justify by explaining that we can expect a random sample of data to be close to our population, especially if it is a good size sample like this one. In this case, our random sampling has a mean of 13,270, so an average charge of under 12,000 is unlikely. The most appropriate frequentist test could be bootstrapping our sample and calculating the p-value of getting a mean of 13,270 with a null hypothesis of 12000."
   ]
  },
  {
   "cell_type": "markdown",
   "metadata": {},
   "source": [
    "__Q3:__ Given the nature of the administrator's concern, what is the appropriate confidence interval in this case? A ***one-sided*** or ***two-sided*** interval? (Refresh your understanding of this concept on p. 399 of the *AoS*). Calculate the critical value and the relevant 95% confidence interval for the mean, and comment on whether the administrator should be concerned."
   ]
  },
  {
   "cell_type": "markdown",
   "metadata": {},
   "source": [
    "__A:__ \n",
    "    One sided interval because we only want to measure how likely it is that the mean is below 12,000. The critical value (t-value) would be 1.646 based on sample size and alpha of 0.05. I think the administrator does have cause for concern because the confidence interval is so wide, there is a lot of uncertainty around our sample"
   ]
  },
  {
   "cell_type": "code",
   "execution_count": 7,
   "metadata": {},
   "outputs": [
    {
     "name": "stdout",
     "output_type": "stream",
     "text": [
      "(-10477.382986659757, 37018.222986659755)\n"
     ]
    }
   ],
   "source": [
    "# t-value would be 1.646 based on sample size and alpha of 0.05\n",
    "conf = 0.95\n",
    "deg = len(medical) - 1\n",
    "confidence_interval = t.interval(conf, deg, mean, std)\n",
    "print(confidence_interval)"
   ]
  },
  {
   "cell_type": "code",
   "execution_count": 8,
   "metadata": {},
   "outputs": [
    {
     "name": "stdout",
     "output_type": "stream",
     "text": [
      "    age  sex    bmi  children  smoker  region     charges  insuranceclaim\n",
      "0    19    0  27.90         0       1       3  16884.9240               1\n",
      "1    18    1  33.77         1       0       2   1725.5523               1\n",
      "4    32    1  28.88         0       0       1   3866.8552               1\n",
      "6    46    0  33.44         1       0       2   8240.5896               1\n",
      "10   25    1  26.22         0       0       0   2721.3208               1\n",
      "   age  sex     bmi  children  smoker  region      charges  insuranceclaim\n",
      "2   28    1  33.000         3       0       2   4449.46200               0\n",
      "3   33    1  22.705         0       0       1  21984.47061               0\n",
      "5   31    0  25.740         0       0       2   3756.62160               0\n",
      "7   37    0  27.740         3       0       1   7281.50560               0\n",
      "8   37    1  29.830         2       0       0   6406.41070               0\n"
     ]
    }
   ],
   "source": [
    "w_ins = medical[medical['insuranceclaim'] == 1]\n",
    "wo_ins = medical[medical['insuranceclaim'] == 0]\n",
    "print(w_ins.head())\n",
    "print(wo_ins.head())"
   ]
  },
  {
   "cell_type": "code",
   "execution_count": 18,
   "metadata": {},
   "outputs": [
    {
     "name": "stdout",
     "output_type": "stream",
     "text": [
      "[16884.924     1725.5523    3866.8552    8240.5896    2721.3208\n",
      " 27808.7251    1826.843    11090.7178   39611.7577   10797.3362\n",
      " 10602.385    36837.467    13228.84695   4149.736     1137.011\n",
      " 37701.8768   14001.1338    2775.19215  38711.       35585.576\n",
      "  2198.18985  13770.0979   51194.55914  39774.2763   48173.361\n",
      "  3046.062    20630.28351   3556.9223   38709.176     2211.13075\n",
      " 23568.272    37742.5757   47496.49445  34303.1672   23244.7902\n",
      "  8606.2174   14711.7438    1743.214    14235.072     5920.1041\n",
      " 16577.7795   11741.726    11946.6259    7726.854    11356.6609\n",
      "  1532.4697    2755.02095   6571.02435   7935.29115  37165.1638\n",
      " 39836.519    21098.55405  43578.9394   11073.176     8026.6666\n",
      " 11082.5772    2026.9741   30184.9367   47291.055    10226.2842\n",
      " 22412.6485   15820.699     6186.127    21344.8467   30942.1918\n",
      " 17560.37975   2867.1196   47055.5321   10825.2537   11881.358\n",
      "  4646.759     2404.7338   30259.99556  11381.3254   19107.7796\n",
      "  8601.3293    7740.337     2257.47525  39556.4945    3385.39915\n",
      " 17081.08      9634.538    12815.44495  11163.568     2457.21115\n",
      "  2155.6815    1261.442     2166.732     3490.5491   40720.55105\n",
      "  9877.6077   10959.6947    7789.635    19964.7463    6948.7008\n",
      " 21223.6758   15518.18025  36950.2567   19749.38338  21348.706\n",
      " 36149.4835   10450.552     5028.1466   10407.08585   2719.27975\n",
      " 13405.3903    8116.68      1694.7964    5246.047     2855.43755\n",
      " 48824.45      8823.279    11735.87905   1631.8212    7419.4779\n",
      " 43753.33705   6775.961    12557.6053    4883.866     1137.4697\n",
      "  1639.5631    5649.715     8516.829    14901.5167    2130.6759\n",
      "  8871.1517   37133.8982   11743.299    13880.949     6610.1097\n",
      "  1980.07      7371.772    10355.641     5012.471    10564.8845\n",
      " 34779.615    19515.5416    2689.4954   24227.33724   7358.17565\n",
      "  9225.2564    7443.64305  14001.2867    1615.7667   17352.6803\n",
      "  7152.6714   38511.6283   29523.1656   24476.47851  12648.7034\n",
      "  1986.9334   47305.305    44260.7499   41097.16175  13047.33235\n",
      " 43921.1837    5400.9805   33750.2918   17085.2676   24869.8368\n",
      " 36219.40545  46151.1245   17179.522     7441.053    42856.838\n",
      "  7265.7025    2523.1695    9715.841    22331.5668   48549.17835\n",
      " 11879.10405   9625.92      9432.9253   14256.1928   47896.79135\n",
      " 25992.82104   3172.018    42112.2356    2156.7518   16297.846\n",
      " 21978.6769   38746.3551   24873.3849   12265.5069   12646.207\n",
      "  4151.0287   11944.59435   8444.474    42124.5153    8124.4084\n",
      " 34838.873     9722.7695    8835.26495  10435.06525   7421.19455\n",
      " 35491.64     11566.30055   2866.091     6600.20595  42760.5022\n",
      " 47928.03      9144.565    48517.56315  24393.6224   13429.0354\n",
      " 11658.37915  19144.57652  13822.803    41919.097    18955.22017\n",
      " 13352.0998   13217.0945   13981.85035   8334.45755   1635.73365\n",
      "  3554.203    12404.8791   14133.03775  24603.04837   9620.3307\n",
      "  1837.2819   13844.506     9778.3472    7639.41745  36085.219\n",
      "  1391.5287   18033.9679   38126.2465   27000.98473  42303.69215\n",
      " 20781.48892   1261.859    11856.4115   30284.64294   2138.0707\n",
      "  8964.06055   9290.1395   16586.49771  14988.432     1631.6683\n",
      "  8083.9198   14692.66935  11396.9002    1621.3402   19594.80965\n",
      "  2134.9015    7345.7266    9140.951    14418.2804   28950.4692\n",
      " 46889.2612   46599.1084   39125.33225   2727.3951    7323.734819\n",
      "  3167.45585  23082.95533   5969.723    12638.195     2254.7967\n",
      " 12592.5345    2897.3235    4738.2682   37079.372     1149.3959\n",
      " 28287.89766  26109.32905   7345.084    12730.9996    5910.944\n",
      "  1769.53165   4686.3887   21797.0004   11840.77505  10601.412\n",
      " 22144.032    15230.32405  19521.9682    2497.0383    2203.47185\n",
      "  1744.465    20878.78443  25382.297    28868.6639   35147.52848\n",
      "  2534.39375   1534.3045    1824.2854    9304.7019    1622.1885\n",
      "  9880.068     4347.02335   1253.936    48885.13561  10461.9794\n",
      "  1748.774    12574.049     1967.0227    8027.968    13470.86\n",
      " 36197.699     6837.3687   22218.1149   32548.3405    2643.2685\n",
      " 11455.28     11763.0009    2498.4144    1256.299    21082.16\n",
      " 11362.755     3857.75925  25656.57526   3994.1778    9866.30485\n",
      "  5397.6167   38245.59327  11482.63485   8342.90875  48675.5177\n",
      " 14043.4767   12925.886    19214.70553  13831.1152   27346.04207\n",
      " 13887.204    63770.42801  10231.4999   23807.2406    3268.84665\n",
      " 11538.421     3213.62205  45863.205    13390.559     3972.9247\n",
      " 17878.90068   8334.5896    3935.1799   39983.42595   1646.4297\n",
      " 10923.9332    2494.022     9058.7303    2128.43105   6373.55735\n",
      " 45702.02235   3761.292    31620.00106  12222.8983    1664.9996\n",
      " 58571.07448   9724.53      1639.5631    6356.2707   43943.8761\n",
      " 13635.6379   11842.442    15359.1045    5709.1644    8823.98575\n",
      "  7640.3092    5594.8455   33471.97189   1633.0444    9174.13565\n",
      " 17468.9839    9283.562    25678.77845  39241.442     2207.69745\n",
      "  1880.07     42969.8527   11658.11505  23306.547    34439.8559\n",
      " 10713.644     3659.346    40182.246    34617.84065  12129.61415\n",
      "  3736.4647   11326.71487  11365.952    42983.4585   10085.846\n",
      "  1977.815     3366.6697    9391.346    14410.9321   20149.3229\n",
      " 13143.86485  18806.14547   1712.227    12430.95335  10579.711\n",
      "  8280.6227    8527.532    12244.531    24667.419     3410.324\n",
      " 26392.26029  14394.39815   6435.6237    5148.5526    1136.3994\n",
      " 27037.9141   42560.4304   40003.33225  45710.20785   3943.5954\n",
      "  4399.731     6185.3208   46200.9851   46130.5265    2585.269\n",
      " 40103.89     11244.3769    7729.64575   5438.7491   34806.4677\n",
      "  2104.1134    8068.185     2362.22905   3577.999     3201.24515\n",
      " 40273.6455   10976.24575   2020.5523    9541.69555   9504.3103\n",
      " 44400.4064   10264.4421    5469.0066    1984.4533   12146.971\n",
      " 10848.1343   12231.6136    9875.6804   12979.358     1263.249\n",
      " 40932.4295   16657.71745   2217.6012    6781.3542    9583.8933\n",
      " 40419.0191   36189.1017   44585.45587  18246.4955   43254.41795\n",
      "  3757.8448    8827.2099    9910.35985   8556.907     3062.50825\n",
      " 19539.243     1906.35825  14210.53595  23065.4207   36307.7983\n",
      " 19040.876     3070.8087    9095.06825  11842.62375   8062.764\n",
      " 14319.031    11150.78     12797.20962  17748.5062    7448.40395\n",
      "  9869.8102    1146.7966    9386.1613   24520.264    12741.16745\n",
      "  1917.3184   13457.9608    5662.225     1252.407    21195.818\n",
      " 18310.742    11848.141    17904.52705  14313.8463   38792.6856\n",
      "  1815.8759    7731.85785  28476.73499   2136.88225   1131.5066\n",
      "  1877.9294   23401.30575  55135.40209   7445.918     1621.8827\n",
      "  8219.2039   43813.8661   20773.62775  39597.4072   13393.756\n",
      " 11743.9341    5377.4578    7160.3303    4402.233    11657.7189\n",
      " 12622.1795    1526.312    36021.0112   27533.9129   10072.05505\n",
      " 45008.9555    9872.701     2438.0552   10601.63225  37270.1512\n",
      " 42111.6647   24106.91255   1875.344    40974.1649   15817.9857\n",
      " 18218.16139  10965.446    46113.511     1141.4451   11576.13\n",
      "  8457.818     6849.026     2690.1138   46255.1125   19719.6947\n",
      " 27218.43725   5272.1758    1682.597    11945.1327   29330.98315\n",
      " 44202.6536   13555.0049   13063.883    19798.05455   1634.5734\n",
      " 48673.5588    8125.7845   12644.589     7633.7206   17496.306\n",
      " 33732.6867   14382.70905   2473.3341   21774.32215  35069.37452\n",
      " 13041.921     5245.2269   13462.52      4320.41085  13470.8044\n",
      "  6289.7549    2927.0647    6238.298    10096.97      7348.142\n",
      " 12233.828    32108.66282   9487.6442    9549.5651    2217.46915\n",
      " 12982.8747   11674.13      7160.094    39047.285     6358.77645\n",
      " 47462.894    38998.546    20009.63365  41999.52     41034.2214\n",
      " 28468.91901  14474.675    26467.09737  23967.38305  10702.6424\n",
      "  1759.338     2322.6218   16138.76205   7804.1605    4889.0368\n",
      "  4518.82625  14571.8908   13887.9685    5267.81815  34472.841\n",
      " 21232.18226  24915.22085  18767.7377    8765.249     5383.536\n",
      "  8798.593    35595.5898   42211.1382    8569.8618    2020.177\n",
      " 16450.8947    9850.432     6877.9801   21677.28345  44423.803\n",
      "  4137.5227   13747.87235  12950.0712   37484.4493   39725.51805\n",
      "  2250.8352   20234.85475  33475.81715  11394.06555  21880.82\n",
      " 44501.3982   39727.614     8023.13545  14394.5579   25309.489\n",
      " 10594.50155   8277.523    17929.30337   2480.9791    4462.7218\n",
      "  1981.5819   48970.2476    8978.1851    5757.41345  10928.849\n",
      " 39871.7043   13974.45555   1909.52745  12096.6512    8551.347\n",
      "  2102.2647   34672.1472    4076.497    10796.35025  11353.2276\n",
      "  9748.9106   41676.0811   11286.5387   33907.548    44641.1974\n",
      "  1674.6323   23045.56616   3227.1211   11253.421    11363.2832\n",
      " 20420.60465  10338.9316    8988.15875  10493.9458   11512.405\n",
      " 41949.2441   24180.9335   10807.4863    9222.4026   36124.5737\n",
      " 38282.7495   34166.273     8347.1643   46661.4424   18903.49141\n",
      " 40904.1995   10214.636    14358.36437   3693.428    20709.02034\n",
      " 19673.33573  11085.5868    3704.3545   36898.73308   9048.0273\n",
      " 52590.82939   2261.5688    5979.731     2203.73595  12235.8392\n",
      " 40941.2854   11015.1747   39722.7462    2459.7201    3989.841\n",
      "  7727.2532    2200.83085   5227.98875  10982.5013    6112.35295\n",
      " 17178.6824   11093.6229    2154.361    23887.6627    2899.48935\n",
      " 19350.3689    7650.77375   2850.68375   2632.992    18328.2381\n",
      " 37465.34375  13844.7972   21771.3423   13126.67745  13019.16105\n",
      "  8671.19125  33307.5508    5699.8375    2055.3249    9964.06\n",
      " 38415.474    20296.86345  12347.172     3956.07145  12890.05765\n",
      " 41661.602    26125.67477   6640.54485   7162.0122   10594.2257\n",
      " 11938.25595  60021.39897  20167.33603   8515.7587    2699.56835\n",
      " 12224.35085   3238.4357   47269.854    49577.6624    3171.6149\n",
      "  1135.9407    9101.798     1633.9618   37607.5277   18648.4217\n",
      " 16232.847     4415.1588    6474.013    26926.5144   10704.47\n",
      " 34254.05335   1880.487     8615.3       3292.52985   3021.80915\n",
      " 14478.33015  17043.3414    2741.948     4357.04365  22462.04375\n",
      "  8283.6807   24535.69855  14283.4594   47403.88      3732.6251\n",
      " 38344.566     7147.4728   34828.654     9301.89355   1708.92575\n",
      " 62592.87309  46718.16325  37829.7242   21259.37795   2464.6188\n",
      " 16115.3045   33900.653     4571.41305   4536.259    36397.576\n",
      "  1163.4627   28101.33305  12981.3457   43896.3763   13143.33665\n",
      "  7050.0213    9377.9047   10325.206    12629.1656   10795.93733\n",
      "  2205.9808    1629.8335   29141.3603  ]\n",
      "[ 4449.462   21984.47061  3756.6216   7281.5056   6406.4107  28923.13692\n",
      "  1837.237    2395.17155  6203.90175 14451.83515 12268.63225  4687.797\n",
      "  1625.43375 15612.19335  2302.3      4949.7587   6272.4772   6313.759\n",
      "  6079.6715   3393.35635 12629.8967   3579.8287   8059.6791  13607.36875\n",
      "  5989.52365  4504.6624  30166.61817  4133.64165  6389.37785 17663.1442\n",
      "  6799.458    3947.4131   4441.21315 11033.6617  10942.13205  5729.0053\n",
      "  3766.8838  12105.32     3645.0894   5003.853    2331.519    3877.30425\n",
      " 11488.31695  6686.4313   1705.6245  10115.00885 32734.1863   6082.405\n",
      " 13616.3586   1632.56445  2045.68525 27322.73386 27375.90478 18972.495\n",
      " 18157.876   20745.9891   5138.2567   1842.519    5125.2157   6334.34355\n",
      "  7077.1894   5152.134    4830.63     6128.79745  4827.90495  6455.86265\n",
      " 10436.096    8538.28845  4005.4225   7731.4271   3981.9768   5325.651\n",
      "  4922.9159   2137.6536  12044.342    9644.2525  13012.20865  7147.105\n",
      "  4337.7352  20984.0936   8162.71625  3537.703    5002.7827   8520.026\n",
      "  2483.736    3392.9768  25081.76784  5253.524   11987.1682   1727.785\n",
      " 12333.828    6710.1919  19444.2658   4463.2051   5354.07465 35160.13457\n",
      "  7196.867    1832.094    4040.55825 12829.4551   4260.744   11520.09985\n",
      " 11837.16    20462.99766 14590.63205  9282.4806   1719.4363   9617.66245\n",
      "  2803.69785  2150.469   12928.7911   9855.1314   4237.12655  7742.1098\n",
      " 20277.80751  3906.127    1704.5681   9249.4952   6746.7425   4349.462\n",
      " 19442.3535  20177.67113  7749.1564   1737.376    4667.60765  4894.7533\n",
      " 24671.66334  3561.8889  12142.5786  13937.6665   8232.6388  10977.2063\n",
      "  6184.2994   4889.9995   5478.0368  11830.6072   8932.084    8944.1151\n",
      "  1607.5101  10043.249    4751.07     2597.779    3180.5101  13430.265\n",
      "  8017.06115  8116.26885  3481.868   13415.0381  12029.2867  21659.9301\n",
      " 16455.70785 15006.57945  5846.9176   8302.53565  3176.8159   4618.0799\n",
      " 10736.87075  9411.005    7526.70645  8522.003    9264.797   10269.46\n",
      "  3260.199    4185.0979   8539.671    6652.5288   4074.4537  14455.64405\n",
      "  5080.096   18608.262    8968.33     9788.8659   6555.07035 18804.7524\n",
      "  4906.40965  4243.59005 13919.8229   5926.846   11454.0215   4762.329\n",
      "  7512.267    4032.2407   1969.614   11881.9696   7682.67    10381.4787\n",
      " 11165.41765  1632.03625 13224.693   12643.3778  23288.9284   2201.0971\n",
      " 15555.18875  9563.029   12475.3513  24513.09126  2196.4732  17942.106\n",
      "  4931.647    8211.1002   5974.3847   6796.86325  3077.0955   3044.2133\n",
      "  9361.3268  27724.28875  8413.46305  5240.765   24059.68019  9861.025\n",
      "  1708.0014   6067.12675  5972.378    8825.086    8233.0975   6196.448\n",
      "  3056.3881  12957.118   11187.6567   3847.674    9193.8385   2801.2588\n",
      "  7256.7231  11552.904    2219.4451   4753.6368  13224.05705  3206.49135\n",
      " 12913.9924  17626.23951  1242.816    4779.6023   3861.20965  5976.8311\n",
      "  8428.0693   2566.4707   7441.501   11070.535   16085.1275   3558.62025\n",
      "  4435.0942   8547.6913   6571.544    6753.038    9182.17     6748.5912\n",
      "  7173.35995  2709.1119  24915.04626 12949.1554   6666.243   32787.45859\n",
      "  4466.6214  10141.1362   6123.5688   8252.2843   9800.8882   4058.71245\n",
      " 22192.43711  8703.456    6500.2359   4837.5823   7222.78625 12485.8009\n",
      " 12363.547   10156.7832   1242.26     9863.4718   4766.022   26236.57997\n",
      "  2352.96845 29186.48236  3500.6123   5385.3379   8930.93455  5375.038\n",
      "  6113.23105  1727.54    10107.2206   8310.83915  2457.502    9566.9909\n",
      " 13112.6048  11264.541   10106.13425  6664.68595 19361.9988  10065.413\n",
      "  4234.927    9447.25035 14007.222    3484.331    8604.48365 11737.84884\n",
      "  1627.28245 11833.7823  17128.42608  5031.26955  7985.815    5428.7277\n",
      "  3925.7582   2416.955    7050.642    6933.24225 27941.28758  7261.741\n",
      " 10560.4917   6986.697    5934.3798  18259.216    4350.5144   6414.178\n",
      "  5209.57885  2731.9122   7209.4918   4266.1658   4719.52405  7046.7222\n",
      "  2103.08     3309.7926   9414.92     6360.9936  11013.7119   4428.88785\n",
      "  5584.3057   2842.76075  3597.596    2680.9493  12523.6048  16069.08475\n",
      "  6117.4945   5266.3656   4719.73655  6402.29135 12323.936    2974.126\n",
      " 14119.62    11729.6795   7151.092   12269.68865  5458.04645  8782.469\n",
      "  6600.361   13129.60345  4391.652    3392.3652   5966.8874   8891.1395\n",
      " 26140.3603   6653.7886   6282.235    6311.952    3443.064    2789.0574\n",
      "  2585.85065  4877.98105  7243.8136  10422.91665  2221.56445  2117.33885\n",
      "  8688.85885  4661.28635  4564.19145  4846.92015 15170.069    2639.0429\n",
      "  7626.993    5257.50795 13451.122    5488.262    6250.435   25333.33284\n",
      "  2913.569   12032.326    4673.3922   8965.79575  2304.0022   1121.8739\n",
      "  1628.4709  19933.458   11534.87265  4527.18295  3875.7341  12609.88702\n",
      "  2730.10785  3353.284    9500.57305  4746.344    7518.02535  3279.86855\n",
      "  8596.8278   4992.3764   2527.81865  2902.9065   9704.66805 25517.11363\n",
      "  4500.33925 19199.944   16796.41194  4915.05985  7624.63     8410.04685\n",
      " 28340.18885  3378.91     7144.86265 10118.424    5484.4673  16420.49455\n",
      "  7986.47525  7418.522    6551.7501  17361.7661   1972.95     8627.5411\n",
      "  4433.3877   4438.2634  23241.47453  9957.7216   8269.044   36580.28216\n",
      " 12124.9924   2709.24395  3987.926   12495.29085 26018.95052  1711.0268\n",
      " 21595.38229 12094.478   22493.65964  1704.70015  3161.454    7325.0482\n",
      "  3594.17085  9288.0267   3353.4703  11554.2236   6548.19505  5708.867\n",
      "  7045.499   14349.8544  13204.28565  4562.8421  15161.5344  11884.04858\n",
      "  4454.40265  5855.9025  15019.76005 19023.26    10577.087    3591.48\n",
      " 11299.343    4561.1885  16776.30405  3471.4096   2904.088    8605.3615\n",
      "  5312.16985  2396.0959   5693.4305  14254.6082   5836.5204   1728.897\n",
      "  8582.3023   9991.03765  7623.518    3176.2877   7954.517   27117.99378\n",
      "  6338.0756   9630.397   11289.10925 10791.96     5630.45785  7228.21565\n",
      " 14426.07385  5124.1887  18963.17192  7153.5539   4529.477    4670.64\n",
      " 22478.6      6457.8434   4433.9159   6496.886    9447.3824   8603.8234\n",
      "  5327.40025 13725.47184  4134.08245 18838.70366  6393.60345  4934.705\n",
      "  6198.7518   8733.22925 18223.4512   5116.5004  36910.60803  5373.36425\n",
      " 23563.01618  1702.4553  10806.839    5415.6612   4058.1161   7537.1639\n",
      "  4718.20355  6593.5083   8442.667    6858.4796   4795.6568  12479.70895\n",
      " 11345.519   14449.8544   6985.50695  4296.2712   5615.369    6059.173\n",
      "  1241.565   15828.82173 11436.73815 11305.93455 30063.58055 10197.7722\n",
      "  4544.2348   3277.161    6770.1925   7337.748   10370.91255  4747.0529\n",
      " 10959.33     4189.1131   1720.3537   8534.6718   5472.449    7133.9025\n",
      "  1515.3449  11931.12525  1964.78     4340.4409   5261.46945  2710.82855\n",
      "  3208.787   21472.4788   6875.961    6940.90985 18765.87545 11272.33139\n",
      "  1731.677   19496.71917  7201.70085  5425.02335  4239.89265 22395.74424\n",
      " 11411.685   10600.5483   2007.945  ]\n",
      "14045.928418802127 6446.510126811736 16423.928276537663 8821.421892306294\n"
     ]
    }
   ],
   "source": [
    "s0 = np.std(w_ins.charges, ddof=1)\n",
    "s1 = np.std(wo_ins.charges, ddof=1)\n",
    "x0 = np.mean(w_ins.charges)\n",
    "x1 = np.mean(wo_ins.charges)\n",
    "ins_chg = np.array(w_ins.charges)\n",
    "no_ins_chg = np.array(wo_ins.charges)\n",
    "print(ins_chg)\n",
    "print(no_ins_chg)\n",
    "print(s0, s1, x0, x1)"
   ]
  },
  {
   "cell_type": "markdown",
   "metadata": {},
   "source": [
    "The administrator then wants to know whether people with insurance really are charged a different amount to those without.\n",
    "\n",
    "__Q4:__ State the null and alternative hypothesis here. Use the _t_-test for the difference between means, where the pooled standard deviation of the two groups is given by:\n",
    "\\begin{equation}\n",
    "s_p = \\sqrt{\\frac{(n_0 - 1)s^2_0 + (n_1 - 1)s^2_1}{n_0 + n_1 - 2}}\n",
    "\\end{equation}\n",
    "\n",
    "and the *t*-test statistic is then given by:\n",
    "\n",
    "\\begin{equation}\n",
    "t = \\frac{\\bar{x}_0 - \\bar{x}_1}{s_p \\sqrt{1/n_0 + 1/n_1}}.\n",
    "\\end{equation}\n",
    "\n",
    "(If you need some reminding of the general definition of ***t-statistic***, check out the definition on p. 404 of *AoS*). \n",
    "\n",
    "What assumption about the variances of the two groups are we making here?"
   ]
  },
  {
   "cell_type": "markdown",
   "metadata": {},
   "source": [
    "__A:__ \n",
    "    1. Everybody has the same insurance coverage\n",
    "    2. Those with and without insurance are being charged for the same services"
   ]
  },
  {
   "cell_type": "markdown",
   "metadata": {},
   "source": [
    "__Q5:__ Perform this hypothesis test both manually, using the above formulae, and then using the appropriate function from [scipy.stats](https://docs.scipy.org/doc/scipy/reference/stats.html#statistical-tests) (hint, you're looking for a function to perform a _t_-test on two independent samples). For the manual approach, calculate the value of the test statistic and then its probability (the p-value). Verify you get the same results from both."
   ]
  },
  {
   "cell_type": "markdown",
   "metadata": {},
   "source": [
    "__A:__ "
   ]
  },
  {
   "cell_type": "code",
   "execution_count": 10,
   "metadata": {},
   "outputs": [
    {
     "name": "stdout",
     "output_type": "stream",
     "text": [
      "11520.034268775256\n"
     ]
    }
   ],
   "source": [
    "#Pooled Standard Deviation Calc\n",
    "num = ((len(w_ins) - 1) * (s0 **2)) + ((len(wo_ins) - 1) * (s1 **2))\n",
    "denom = len(w_ins) + len(wo_ins) -2\n",
    "\n",
    "std_pool = np.sqrt(num / denom)\n",
    "\n",
    "print(std_pool)"
   ]
  },
  {
   "cell_type": "code",
   "execution_count": 12,
   "metadata": {},
   "outputs": [
    {
     "name": "stdout",
     "output_type": "stream",
     "text": [
      "11.89329903087671\n"
     ]
    }
   ],
   "source": [
    "#t-statistic calc\n",
    "num1 = x0 - x1\n",
    "denom1 = std_pool * np.sqrt((1 / len(w_ins)) + (1 / len(wo_ins)))\n",
    "t = num1 / denom1\n",
    "print(t)\n"
   ]
  },
  {
   "cell_type": "code",
   "execution_count": 22,
   "metadata": {},
   "outputs": [
    {
     "name": "stdout",
     "output_type": "stream",
     "text": [
      "0.0\n"
     ]
    }
   ],
   "source": [
    "#p-value calc\n",
    "#p = np.sum(permutations == observed val) / len(permutations)\n",
    "p = np.sum(ins_chg == np.mean(no_ins_chg)) / len(ins_chg)\n",
    "\n",
    "print(p)"
   ]
  },
  {
   "cell_type": "code",
   "execution_count": 14,
   "metadata": {},
   "outputs": [
    {
     "name": "stdout",
     "output_type": "stream",
     "text": [
      "Ttest_indResult(statistic=11.893299030876712, pvalue=4.461230231620717e-31)\n"
     ]
    }
   ],
   "source": [
    "t_calc = ttest_ind(w_ins['charges'], wo_ins['charges'])\n",
    "print(t_calc)"
   ]
  },
  {
   "cell_type": "code",
   "execution_count": null,
   "metadata": {},
   "outputs": [],
   "source": []
  },
  {
   "cell_type": "markdown",
   "metadata": {},
   "source": [
    "Congratulations! Hopefully you got the exact same numerical results. This shows that you correctly calculated the numbers by hand. Secondly, you used the correct function and saw that it's much easier to use. All you need to do is pass your data to it."
   ]
  },
  {
   "cell_type": "markdown",
   "metadata": {},
   "source": [
    "__Q6:__ Conceptual question: look through the documentation for statistical test functions in scipy.stats. You'll see the above _t_-test for a sample, but can you see an equivalent one for performing a *z*-test from a sample? Comment on your answer."
   ]
  },
  {
   "cell_type": "markdown",
   "metadata": {},
   "source": [
    "__A:__ I do not see an equivalent z-test function. My guess is because the z-test calculation involves the population as well?"
   ]
  },
  {
   "cell_type": "markdown",
   "metadata": {},
   "source": [
    "## Learning outcomes"
   ]
  },
  {
   "cell_type": "markdown",
   "metadata": {},
   "source": [
    "Having completed this project notebook, you now have good hands-on experience:\n",
    "* using the central limit theorem to help you apply frequentist techniques to answer questions that pertain to very non-normally distributed data from the real world\n",
    "* performing inference using such data to answer business questions\n",
    "* forming a hypothesis and framing the null and alternative hypotheses\n",
    "* testing this using a _t_-test"
   ]
  }
 ],
 "metadata": {
  "kernelspec": {
   "display_name": "Python 3",
   "language": "python",
   "name": "python3"
  },
  "language_info": {
   "codemirror_mode": {
    "name": "ipython",
    "version": 3
   },
   "file_extension": ".py",
   "mimetype": "text/x-python",
   "name": "python",
   "nbconvert_exporter": "python",
   "pygments_lexer": "ipython3",
   "version": "3.7.6"
  }
 },
 "nbformat": 4,
 "nbformat_minor": 2
}
